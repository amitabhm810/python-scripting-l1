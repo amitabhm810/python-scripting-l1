{
 "cells": [
  {
   "cell_type": "markdown",
   "metadata": {},
   "source": [
    "1.\tGiven a list, url = [www.annauniv.edu, www.google.com, www.ndtv.com, www.website.org, www.bis.org.in, www.rbi.org.in]; Sort the list based on the top level domain (edu, com, org, in) using custom sorting"
   ]
  },
  {
   "cell_type": "code",
   "execution_count": 143,
   "metadata": {},
   "outputs": [
    {
     "name": "stdout",
     "output_type": "stream",
     "text": [
      "Addition : 5\n",
      "Substraction : -1\n",
      "Multiplication : 6\n",
      "Division : 0.6666666666666666\n"
     ]
    }
   ],
   "source": [
    "def add(a, b):\n",
    "    return a+b\n",
    "\n",
    "def sub(a, b):\n",
    "    return a-b\n",
    "\n",
    "def mul(a, b):\n",
    "    return a*b\n",
    "\n",
    "def div(a, b):\n",
    "    return a/b\n",
    "\n",
    "\n",
    "print('Addition : {}'.format(add(2, 3)))\n",
    "print('Substraction : {}'.format(sub(2, 3)))\n",
    "print('Multiplication : {}'.format(mul(2, 3)))\n",
    "print('Division : {}'.format(div(2, 3)))"
   ]
  },
  {
   "cell_type": "code",
   "execution_count": null,
   "metadata": {},
   "outputs": [],
   "source": []
  },
  {
   "cell_type": "markdown",
   "metadata": {},
   "source": [
    "2.\tGiven a list of strings, return the count of the number of strings where the string length is 2 or more and the first and last chars of the string are the same.  \n",
    "\n",
    "i.\t['axa', 'xyz', 'gg', 'x', 'yyy']\n",
    "ii.\t['x', 'cd', 'cnc', 'kk']\n",
    "iii.\t['bab', 'ce', 'cba', 'syanora']\n",
    "\n"
   ]
  },
  {
   "cell_type": "code",
   "execution_count": 144,
   "metadata": {},
   "outputs": [
    {
     "name": "stdout",
     "output_type": "stream",
     "text": [
      "Biggest number is : 10000\n"
     ]
    }
   ],
   "source": [
    "def big(x, y, z):\n",
    "    if (x > y) and (x > z):\n",
    "        print(\"Biggest number is : {}\".format(x))\n",
    "    elif(y>x) and (y>z):\n",
    "        print(\"Biggest number is : {}\".format(y))\n",
    "    elif(z>x) and (z>y):\n",
    "        print(\"Biggest number is : {}\".format(z))\n",
    "    else:\n",
    "        print(\"All are equals\")\n",
    "        \n",
    "big(300, 50, 10000)"
   ]
  },
  {
   "cell_type": "code",
   "execution_count": null,
   "metadata": {},
   "outputs": [],
   "source": []
  },
  {
   "cell_type": "markdown",
   "metadata": {},
   "source": [
    "3.\tGiven a list of strings, return a list with the strings in sorted order, except group all the strings that begin with 'x' first.  e.g. ['mix', 'xyz', 'apple', 'xanadu', 'aardvark'] yields\n",
    "['xanadu', 'xyz', 'aardvark', 'apple', 'mix']. \n",
    "Hint: this can be done by making 2 lists and sorting each of them before combining them.\n",
    "i.\t['bbb', 'ccc', 'axx', 'xzz', 'xaa']\n",
    "ii.\t['mix', 'xyz', 'apple', 'xanadu', 'aardvark']"
   ]
  },
  {
   "cell_type": "code",
   "execution_count": 145,
   "metadata": {},
   "outputs": [
    {
     "name": "stdout",
     "output_type": "stream",
     "text": [
      "Number is even\n"
     ]
    }
   ],
   "source": [
    "def check(n):\n",
    "    if (n > 0):\n",
    "        if(n%2 == 0):\n",
    "            print(\"Number is even\")\n",
    "        else:\n",
    "            print(\"Number is Odd\")\n",
    "    else:\n",
    "        print(\"0 or -ve number are not allowed\")\n",
    "        \n",
    "check(6)"
   ]
  },
  {
   "cell_type": "code",
   "execution_count": null,
   "metadata": {},
   "outputs": [],
   "source": []
  },
  {
   "cell_type": "markdown",
   "metadata": {},
   "source": [
    "4.\tGiven a list of non-empty tuples, return a list sorted in increasing order by the last element in each tuple. \n",
    "e.g. [(1, 7), (1, 3), (3, 4, 5), (2, 2)] yields [(2, 2), (1, 3), (3, 4, 5), (1, 7)]\n",
    "      Hint: use a custom key= function to extract the last element form each tuple.\n",
    "i.\t [(1, 3), (3, 2), (2, 1)]\n",
    "ii.\t[(1, 7), (1, 3), (3, 4, 5), (2, 2)]\n"
   ]
  },
  {
   "cell_type": "code",
   "execution_count": 146,
   "metadata": {},
   "outputs": [
    {
     "name": "stdout",
     "output_type": "stream",
     "text": [
      "22 is not a prime number\n",
      "2 times 11 is 22\n"
     ]
    }
   ],
   "source": [
    "def prime(n):\n",
    "    if n > 1:\n",
    "        for i in range(2,n):\n",
    "            if (n % i) == 0:\n",
    "                print(\"{} is not a prime number\".format(n))\n",
    "                print(i,\"times\",n//i,\"is\",n)\n",
    "                break\n",
    "            else:\n",
    "                print(n,\"is a prime number\")\n",
    "\n",
    "    else:\n",
    "        print(n,\"is not a prime number\")\n",
    "        \n",
    "prime(22)"
   ]
  },
  {
   "cell_type": "code",
   "execution_count": null,
   "metadata": {},
   "outputs": [],
   "source": []
  },
  {
   "cell_type": "markdown",
   "metadata": {},
   "source": [
    "5.\tGiven a list of numbers, return a list where all adjacent == elements have been reduced to a single element, so [1, 2, 2, 3] returns [1, 2, 3]. You may create a new list or modify the passed in list.\n",
    "i.\t [1, 2, 2, 3], [2, 2, 3, 3, 3]\n"
   ]
  },
  {
   "cell_type": "code",
   "execution_count": 147,
   "metadata": {},
   "outputs": [
    {
     "name": "stdout",
     "output_type": "stream",
     "text": [
      "Number of arguments: 3 arguments.\n",
      "Argument List: ['C:\\\\Users\\\\AMITABH\\\\AppData\\\\Local\\\\conda\\\\conda\\\\envs\\\\latest\\\\lib\\\\site-packages\\\\ipykernel_launcher.py', '-f', 'C:\\\\Users\\\\AMITABH\\\\AppData\\\\Roaming\\\\jupyter\\\\runtime\\\\kernel-5c7e4f80-c992-48dc-867a-c55a0acdd092.json']\n"
     ]
    }
   ],
   "source": [
    "import sys\n",
    "\n",
    "print('Number of arguments:', len(sys.argv), 'arguments.')\n",
    "print('Argument List:', str(sys.argv))\n",
    "\n",
    "x  = str(sys.argv)\n",
    "\n",
    "#n = [1, 12, 3, 44]\n",
    "\n",
    "def big(n):\n",
    "\n",
    "    if len(n) <= 4:\n",
    "        \n",
    "        x = n[1]\n",
    "        y = n[2]\n",
    "        z = n[3]\n",
    "    \n",
    "        if (x > y) and (x > z):\n",
    "            print(\"Biggest number is : {}\".format(x))\n",
    "        elif(y>x) and (y>z):\n",
    "            print(\"Biggest number is : {}\".format(y))\n",
    "        elif(z>x) and (z>y):\n",
    "            print(\"Biggest number is : {}\".format(z))\n",
    "        else:\n",
    "            print(\"All are equals\")\n",
    "            \n",
    "big(x)"
   ]
  },
  {
   "cell_type": "code",
   "execution_count": null,
   "metadata": {},
   "outputs": [],
   "source": []
  },
  {
   "cell_type": "markdown",
   "metadata": {},
   "source": [
    "6.\tWrite a function to print the information in the dictionary(bookstore) in the given format\n",
    "\n",
    "bookstore={\"New Arrivals\":{\"COOKING\":[\"Everyday Italian\",\"Giada De Laurentiis\",\"2005\",\"30.00\"],\"CHILDREN\":[\"Harry Potter”, J K. Rowling\",\"2005\",\"29.99\"],\"WEB\":[\"Learning XML\",\"Erik T. Ray\",\"2003\",\"39.95\"]}}\n",
    "\n",
    "\n",
    "BOOKSTORE\n",
    "\n",
    "'Learning XML', 'Erik T. Ray', '2003', '39.95' \n",
    "'Everyday Italian', 'Giada De Laurent is', '2005', '30.00']\n",
    " 'Harry Potter', 'J K. Rowling', '2005', '29.99']\n",
    "\n"
   ]
  },
  {
   "cell_type": "code",
   "execution_count": 148,
   "metadata": {},
   "outputs": [
    {
     "name": "stdout",
     "output_type": "stream",
     "text": [
      "h\n",
      "e\n",
      "l\n",
      "l\n",
      "o\n",
      " \n",
      "w\n",
      "o\n",
      "r\n",
      "l\n",
      "d\n",
      "lo world\n",
      "hello worldhello worldhello worldhello worldhello worldhello worldhello worldhello worldhello worldhello worldhello worldhello worldhello worldhello worldhello worldhello worldhello worldhello worldhello worldhello worldhello worldhello worldhello worldhello worldhello worldhello worldhello worldhello worldhello worldhello worldhello worldhello worldhello worldhello worldhello worldhello worldhello worldhello worldhello worldhello worldhello worldhello worldhello worldhello worldhello worldhello worldhello worldhello worldhello worldhello worldhello worldhello worldhello worldhello worldhello worldhello worldhello worldhello worldhello worldhello worldhello worldhello worldhello worldhello worldhello worldhello worldhello worldhello worldhello worldhello worldhello worldhello worldhello worldhello worldhello worldhello worldhello worldhello worldhello worldhello worldhello worldhello worldhello worldhello worldhello worldhello worldhello worldhello worldhello worldhello worldhello worldhello worldhello worldhello worldhello worldhello worldhello worldhello worldhello worldhello world\n",
      "2 hello world\n"
     ]
    }
   ],
   "source": [
    "x = 'hello world'\n",
    "\n",
    "for i in x:\n",
    "    print(i)\n",
    "    \n",
    "y = x[3:]\n",
    "print(y)\n",
    "\n",
    "z = x*100\n",
    "print(z)\n",
    "\n",
    "w = '2 ' + x\n",
    "print(w)"
   ]
  },
  {
   "cell_type": "code",
   "execution_count": null,
   "metadata": {},
   "outputs": [],
   "source": []
  },
  {
   "cell_type": "markdown",
   "metadata": {},
   "source": [
    "7.\tGiven a string, str1=\"\"”Python is a widely used high-level programming language for general-purpose programming, created by Guido van Rossum and first released in 1991. An interpreted language, Python has a design philosophy which emphasizes code readability (notably using whitespace indentation to delimit code blocks rather than curly braces or keywords), and a syntax which allows programmers to express concepts in fewer lines of code than possible in languages such as C++ or Java. The language provides constructs intended to enable writing clear programs on both a small and large scale .Python features a dynamic type system and automatic memory management and supports multiple programming paradigms, including object-oriented, imperative, functional programming, and procedural styles. It has a large and comprehensive standard library. Python interpreters are available for many operating systems, allowing Python code to run on a wide variety of systems. CPython, the reference implementation of Python, is open source software and has a community-based development model, as do nearly all of its variant implementations. CPython is managed by the non-profit Python Software Foundation.\"\"\"\n",
    "a.\tBuild a dictionary, with \"words as key\" --> Frequency of occurrence as value\n",
    "E.g. Python 7, is3\n",
    "b.\tPrint the top 5 words with their frequency of occurrence\n"
   ]
  },
  {
   "cell_type": "code",
   "execution_count": 149,
   "metadata": {},
   "outputs": [
    {
     "name": "stdout",
     "output_type": "stream",
     "text": [
      "3\n",
      "5\n",
      "12\n",
      "93\n",
      "1\n",
      "[5, 12]\n",
      "[3, 5, 12, 93, 1, 3, 5, 12, 93, 1, 3, 5, 12, 93, 1, 3, 5, 12, 93, 1, 3, 5, 12, 93, 1, 3, 5, 12, 93, 1, 3, 5, 12, 93, 1, 3, 5, 12, 93, 1, 3, 5, 12, 93, 1, 3, 5, 12, 93, 1]\n",
      "[3, 5, 12, 93, 1, 34, 25, 8, 7, 0, 2]\n"
     ]
    }
   ],
   "source": [
    "x = [3, 5, 12, 93, 1]\n",
    "\n",
    "for i in x:\n",
    "    print(i)\n",
    "    \n",
    "y = x[1:3]\n",
    "print(y)\n",
    "\n",
    "z = x*10\n",
    "print(z)\n",
    "\n",
    "x1 = [34, 25, 8, 7, 0, 2]\n",
    "w = x + x1\n",
    "print(w)"
   ]
  },
  {
   "cell_type": "code",
   "execution_count": null,
   "metadata": {},
   "outputs": [],
   "source": []
  },
  {
   "cell_type": "markdown",
   "metadata": {},
   "source": [
    "8.\tGiven a string, str1=\"\"”Python is a widely used high-level programming language for general-purpose programming, created by Guido van Rossum and first released in 1991. An interpreted language, Python has a design philosophy which emphasizes code readability (notably using whitespace indentation to delimit code blocks rather than curly braces or keywords), and a syntax which allows programmers to express concepts in fewer lines of code than possible in languages such as C++ or Java. The language provides constructs intended to enable writing clear programs on both a small and large scale .Python features a dynamic type system and automatic memory management and supports multiple programming paradigms, including object-oriented, imperative, functional programming, and procedural styles. It has a large and comprehensive standard library. Python interpreters are available for many operating systems, allowing Python code to run on a wide variety of systems. CPython, the reference implementation of Python, is open source software and has a community-based development model, as do nearly all of its variant implementations. CPython is managed by the non-profit Python Software Foundation.\"\"\"\n",
    "Hint:  Assume that the first word is preceded by \" \"\n",
    "a.\tBuild a dictionary where the key is a word and the value is the list of words that are likely to follow.\n",
    "i.\tE.g. Python  [is, has, features, interpreters, code, Software]. In this example the words listed are likely to follow “Python”\n",
    "b.\tGiven a word predict the word that’s likely to follow.\n",
    "\n"
   ]
  },
  {
   "cell_type": "code",
   "execution_count": 150,
   "metadata": {},
   "outputs": [
    {
     "name": "stdout",
     "output_type": "stream",
     "text": [
      "3\n",
      "5\n",
      "12\n",
      "93\n",
      "1\n",
      "(5, 12)\n",
      "(3, 5, 12, 93, 1, 3, 5, 12, 93, 1, 3, 5, 12, 93, 1, 3, 5, 12, 93, 1, 3, 5, 12, 93, 1, 3, 5, 12, 93, 1, 3, 5, 12, 93, 1, 3, 5, 12, 93, 1, 3, 5, 12, 93, 1, 3, 5, 12, 93, 1)\n",
      "(3, 5, 12, 93, 1, 34, 25, 8, 7, 0, 2)\n"
     ]
    }
   ],
   "source": [
    "x = (3, 5, 12, 93, 1)\n",
    "\n",
    "for i in x:\n",
    "    print(i)\n",
    "    \n",
    "y = x[1:3]\n",
    "print(y)\n",
    "\n",
    "z = x*10\n",
    "print(z)\n",
    "\n",
    "x1 = (34, 25, 8, 7, 0, 2)\n",
    "w = x + x1\n",
    "print(w)"
   ]
  },
  {
   "cell_type": "code",
   "execution_count": null,
   "metadata": {},
   "outputs": [],
   "source": []
  },
  {
   "cell_type": "markdown",
   "metadata": {},
   "source": [
    "Below is the output of # show ip interface brief command on a router\n",
    "\n",
    "Interface\t\tIP-Address\tOK? \tMethod Status\tProtocol\n",
    " \n",
    "FastEthernet0/0\t192.168.1.242\tYES \tmanual up\tup \n",
    "FastEthernet1/0        unassigned\tYES \tunset\t\tdown \n",
    "Serial2/0              \t192.168.1.250\tYES \tmanual up\tup \n",
    "Serial3/0              \t192.168.1.233\tYES \tmanual up\tup \n",
    "FastEthernet4/0        unassigned\tYES \tunset  \t\tdown\t\n",
    "FastEthernet5/0        unassigned\tYES        unset \t\tdown\n",
    "\n",
    "a.\tUse regular expressions to extract and display Interface and method status for all the interfaces.\n",
    "i.\tE.g.  FastEthernet0/0, manual up\n",
    "\n"
   ]
  },
  {
   "cell_type": "code",
   "execution_count": 10,
   "metadata": {},
   "outputs": [
    {
     "name": "stdout",
     "output_type": "stream",
     "text": [
      "Addition of two complex numbers :  (7-4j)\n",
      "Addition of two complex numbers :  (1+10j)\n",
      "Addition of two complex numbers :  (33-19j)\n",
      "Addition of two complex numbers :  (-0.15517241379310348+0.6379310344827587j)\n"
     ]
    }
   ],
   "source": [
    "def add_co(x, y):\n",
    "    \n",
    "    print(\"Addition of two complex numbers : \",x+y)\n",
    "    \n",
    "def sub_co(x, y):\n",
    "    \n",
    "    print(\"Addition of two complex numbers : \",x-y)\n",
    "    \n",
    "def mul_co(x, y):\n",
    "    \n",
    "    print(\"Addition of two complex numbers : \",x*y)\n",
    "    \n",
    "def div_co(x, y):\n",
    "    \n",
    "    print(\"Addition of two complex numbers : \",x/y)\n",
    "\n",
    "add_co((4+3j), (3-7j))\n",
    "sub_co((4+3j), (3-7j))\n",
    "mul_co((4+3j), (3-7j))\n",
    "div_co((4+3j), (3-7j))"
   ]
  },
  {
   "cell_type": "code",
   "execution_count": null,
   "metadata": {},
   "outputs": [],
   "source": []
  },
  {
   "cell_type": "code",
   "execution_count": 49,
   "metadata": {},
   "outputs": [
    {
     "name": "stdout",
     "output_type": "stream",
     "text": [
      "\n",
      "\n",
      "BOOKSTORE\n",
      "\n",
      "\n",
      "'Everyday Italian', 'Giada De Laurentiis', '2005', '30.00'\n",
      "'Harry Potter', 'J K.Rowling', '2005', '29.99'\n",
      "'Learning XML', 'Erik T. Ray', '2003', '39.95'\n",
      "\n",
      "\n",
      "\n"
     ]
    }
   ],
   "source": [
    "bookstore = {\"New Arrivals\":{\"COOKING\":[\"Everyday Italian\",\"Giada De Laurentiis\",\"2005\",\"30.00\"],\"CHILDREN\":[\"Harry Potter\",\"J K.Rowling\",\"2005\",\"29.99\"],\"WEB\":[\"Learning XML\",\"Erik T. Ray\",\"2003\",\"39.95\"]}}\n",
    "print(\"\\n\\nBOOKSTORE\\n\\n\")\n",
    "for dic1 in bookstore.values():\n",
    "    for lst in dic1.values():\n",
    "        strn = str(lst)\n",
    "        strn = strn[1:len(strn)-1]\n",
    "        print(strn)\n",
    "\n",
    "print(\"\\n\\n\")"
   ]
  },
  {
   "cell_type": "code",
   "execution_count": null,
   "metadata": {},
   "outputs": [],
   "source": []
  },
  {
   "cell_type": "code",
   "execution_count": 79,
   "metadata": {},
   "outputs": [
    {
     "name": "stdout",
     "output_type": "stream",
     "text": [
      "Dictionary with 5 highest values:\n",
      "\n",
      "Keys: Values\n",
      "\n",
      "and  : 8  \n",
      "a  : 8  \n",
      "Python  : 5  \n",
      "to  : 4  \n",
      "of  : 4  \n"
     ]
    }
   ],
   "source": [
    "def freq(str): \n",
    "    str_list = str.split() \n",
    "    unique_words = set(str_list) \n",
    "    keys = []\n",
    "    values = []\n",
    "    for words in unique_words : \n",
    "        keys.append(words)\n",
    "        values.append(str_list.count(words))\n",
    "        \n",
    "    new_dict = dict(zip(keys, values))\n",
    "    k = Counter(new_dict) \n",
    "    high = k.most_common(5)  \n",
    "  \n",
    "    print(\"Dictionary with 5 highest values:\\n\") \n",
    "    print(\"Keys: Values\\n\") \n",
    "  \n",
    "    for i in high: \n",
    "        print(i[0],\" :\",i[1],\" \") \n",
    "\n",
    "string = \"\"\"Python is a widely used high-level programming language for general-purpose programming, created by Guido van Rossum and first released in 1991. An interpreted language, Python has a design philosophy which emphasizes code readability (notably using whitespace indentation to delimit code blocks rather than curly braces or keywords), and a syntax which allows programmers to express concepts in fewer lines of code than possible in languages such as C++ or Java. The language provides constructs intended to enable writing clear programs on both a small and large scale .Python features a dynamic type system and automatic memory management and supports multiple programming paradigms, including object-oriented, imperative, functional programming, and procedural styles. It has a large and comprehensive standard library. Python interpreters are available for many operating systems, allowing Python code to run on a wide variety of systems. CPython, the reference implementation of Python, is open source software and has a community-based development model, as do nearly all of its variant implementations. CPython is managed by the non-profit Python Software Foundation.\"\"\"\n",
    "\n",
    "freq(string)"
   ]
  },
  {
   "cell_type": "code",
   "execution_count": null,
   "metadata": {},
   "outputs": [],
   "source": []
  },
  {
   "cell_type": "code",
   "execution_count": 99,
   "metadata": {},
   "outputs": [
    {
     "name": "stdout",
     "output_type": "stream",
     "text": [
      "created ['by']\n"
     ]
    }
   ],
   "source": [
    "str1=\"Python is a widely used high-level programming langauage for general-purpose prograaming, created by Guido van Rossum and first released in 1991. An interpreted language, Python has a design philosophy which emphasizes code readability (notably using whitespace indentation to delimit code blocks rather than curly braces or keywords), and a syntax which allows programmers to concpets in fewer lines of code than possible languages such as C++ or Java. The language provides constructs inteneded to enable writing clear programs on both a small scale and a large scale. Python featues a dynamic type system and sutomatic memory management and supports multiple programming paradgms,including object-oriented, imperative, functional programming, and procedural styles. It has a large and comprehensive standard library. Python interpreters are available for many operating systems, allowing Python code to run on a wide variety of systems. CPython , the reference implementation of Python, is opne source software and has a community-based development model, as do nearly all of its variant implementations. CPython os managed by the non-profit Python Software Foundation.\"\n",
    "\n",
    "def Create_Dic(strn):\n",
    "    dic={}\n",
    "    wordList=strn.split()\n",
    "    #print(wordList)\n",
    "    length=len(wordList)\n",
    "    for index,word in enumerate(wordList):\n",
    "        if dic.__contains__(word):\n",
    "            continue\n",
    "        tmpList=[]\n",
    "        for i in range(index,length):\n",
    "            if index==length-1:\n",
    "                break\n",
    "            if word==wordList[i]:\n",
    "                nextWord=wordList[i+1]\n",
    "                tmpList.append(nextWord)\n",
    "        #print word,tmpList\n",
    "\n",
    "        dic[word]=tmpList\n",
    "    return dic\n",
    "\n",
    "def predict_tofollow(strn,word):\n",
    "    wordDictionary=getDic(strn)\n",
    "    print(word, wordDictionary[word])\n",
    "\n",
    "\n",
    "Create_Dic(str1)\n",
    "predict_tofollow(str1,\"created\")\n"
   ]
  },
  {
   "cell_type": "code",
   "execution_count": null,
   "metadata": {},
   "outputs": [],
   "source": []
  },
  {
   "cell_type": "code",
   "execution_count": 117,
   "metadata": {},
   "outputs": [
    {
     "name": "stdout",
     "output_type": "stream",
     "text": [
      "\n",
      "\n",
      "FastEthernet0/0 , manual up \n",
      "\n",
      "FastEthernet1/0 , unset \n",
      "\n",
      "Serial2/0 , manual up \n",
      "\n",
      "Serial3/0 , manual up \n",
      "\n",
      "FastEthernet4/0 , unset \n",
      "\n",
      "FastEthernet5/0 , unset \n",
      "\n",
      "\n",
      "\n"
     ]
    }
   ],
   "source": [
    "import re\n",
    "\n",
    "\n",
    "str1=\"\"\"Interface  IP-Address  OK?  Method Status  Protocol\n",
    " \n",
    "FastEthernet0/0  192.168.1.242  YES  manual up  up \n",
    "FastEthernet1/0  unassigned  YES  unset  down \n",
    "Serial2/0  192.168.1.250  YES  manual up  up \n",
    "Serial3/0  192.168.1.233  YES  manual up  up \n",
    "FastEthernet4/0  unassigned  YES  unset  down\n",
    "FastEthernet5/0  unassigned  YES  unset  down\"\"\"\n",
    "\n",
    "\n",
    "\n",
    "print(\"\\n\")\n",
    "for line in str1.splitlines():\n",
    "\n",
    "    matchObj = re.match( r'(\\w+\\d\\/\\d)\\s+[.0-9a-z]+\\s+\\w+\\s+(\\w+\\s?\\w+?)\\s+\\w+', line, re.M|re.I)\n",
    "\n",
    "    if matchObj:\n",
    "        print(matchObj.group(1),\",\",matchObj.group(2),\"\\n\")\n",
    "print(\"\\n\")"
   ]
  },
  {
   "cell_type": "code",
   "execution_count": null,
   "metadata": {},
   "outputs": [],
   "source": []
  },
  {
   "cell_type": "code",
   "execution_count": null,
   "metadata": {},
   "outputs": [],
   "source": []
  },
  {
   "cell_type": "code",
   "execution_count": null,
   "metadata": {},
   "outputs": [],
   "source": []
  },
  {
   "cell_type": "code",
   "execution_count": null,
   "metadata": {},
   "outputs": [],
   "source": []
  },
  {
   "cell_type": "code",
   "execution_count": null,
   "metadata": {},
   "outputs": [],
   "source": []
  }
 ],
 "metadata": {
  "kernelspec": {
   "display_name": "Python 3",
   "language": "python",
   "name": "python3"
  },
  "language_info": {
   "codemirror_mode": {
    "name": "ipython",
    "version": 3
   },
   "file_extension": ".py",
   "mimetype": "text/x-python",
   "name": "python",
   "nbconvert_exporter": "python",
   "pygments_lexer": "ipython3",
   "version": "3.6.10"
  }
 },
 "nbformat": 4,
 "nbformat_minor": 4
}
